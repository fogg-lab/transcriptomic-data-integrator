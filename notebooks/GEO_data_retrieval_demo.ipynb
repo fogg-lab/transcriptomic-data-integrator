{
  "nbformat": 4,
  "nbformat_minor": 0,
  "metadata": {
    "colab": {
      "provenance": [],
      "authorship_tag": "ABX9TyN+86hjKpEId+1D+cBrAfFT",
      "include_colab_link": true
    },
    "kernelspec": {
      "name": "python3",
      "display_name": "Python 3"
    },
    "language_info": {
      "name": "python"
    }
  },
  "cells": [
    {
      "cell_type": "markdown",
      "metadata": {
        "id": "view-in-github",
        "colab_type": "text"
      },
      "source": [
        "<a href=\"https://colab.research.google.com/github/fogg-lab/transcriptomics-data-query/blob/main/notebooks/GEO_data_retrieval_demo.ipynb\" target=\"_parent\"><img src=\"https://colab.research.google.com/assets/colab-badge.svg\" alt=\"Open In Colab\"/></a>"
      ]
    },
    {
      "cell_type": "markdown",
      "source": [
        "# GEO data prep with `transcriptomics-data-query`\n",
        "\n",
        "**Known issues**:\n",
        "- The function `tdq.geo.map_probes_to_genes` is not guaranteed to work on all microarray platform technologies. This is due to differences in how the probe set annotation table is organized between different platform technologies.\n",
        "- Other query functions, such as `tdq.geo.get_geo_clinical_characteristics`, can fail if the metadata for the study on GEO is not organized according to how this package expects.\n",
        "\n",
        "I would appreciate if you could report any issues using the package that you might encounter."
      ],
      "metadata": {
        "id": "_V_eMhO-a-hd"
      }
    },
    {
      "cell_type": "markdown",
      "source": [
        "## Setup"
      ],
      "metadata": {
        "id": "An0JBNNyhXAe"
      }
    },
    {
      "cell_type": "markdown",
      "source": [
        "### 1) Install the Python package"
      ],
      "metadata": {
        "id": "8dTEWErUxRU6"
      }
    },
    {
      "cell_type": "code",
      "execution_count": null,
      "metadata": {
        "id": "FKvKsFFGPgzQ"
      },
      "outputs": [],
      "source": [
        "# Clone repository\n",
        "!git clone https://github.com/fogg-lab/transcriptomics-data-query.git\n",
        "\n",
        "# Install package\n",
        "!pip install ./transcriptomics-data-query"
      ]
    },
    {
      "cell_type": "markdown",
      "source": [
        "### 2) Install R packages\n",
        "*This will take up to 10 minutes*"
      ],
      "metadata": {
        "id": "-golMCqhxVqb"
      }
    },
    {
      "cell_type": "code",
      "source": [
        "# Extra preliminary steps to install packages faster in Colab/Ubuntu, using bspm\n",
        "!sudo add-apt-repository -y ppa:marutter/rrutter4.0\n",
        "!sudo add-apt-repository -y ppa:c2d4u.team/c2d4u4.0+\n",
        "!sudo apt-get update && sudo apt-get install -y python3-{dbus,gi,apt}\n",
        "!wget https://github.com/Enchufa2/bspm/archive/refs/tags/v0.5.4.tar.gz\n",
        "!sudo R CMD INSTALL v0.5.4.tar.gz\n",
        "!echo \"bspm::enable()\" | sudo tee -a /etc/R/Rprofile.site"
      ],
      "metadata": {
        "id": "DwMWoDZAI77W"
      },
      "execution_count": null,
      "outputs": []
    },
    {
      "cell_type": "code",
      "source": [
        "# Install packages using the script, install_r_packages.R\n",
        "!sudo Rscript ./transcriptomics-data-query/install_r_packages.R\n",
        "\n",
        "# Install preprocessCore in single threaded mode to avoid threading bug on Colab\n",
        "!git clone https://github.com/bmbolstad/preprocessCore.git\n",
        "!R CMD INSTALL --configure-args=\"--disable-threading\" ./preprocessCore"
      ],
      "metadata": {
        "id": "mM6-KJaiqlHQ"
      },
      "execution_count": null,
      "outputs": []
    },
    {
      "cell_type": "markdown",
      "source": [
        "## GEO retrieval and preprocessing example\n",
        "\n",
        "Prepare expression data from a GEO study. This process is similar for microarray and RNASeq data, with some minor differences. Refer to the [documentation](https://github.com/fogg-lab/transcriptomics-data-query/blob/main/DOCUMENTATION.md) for more information."
      ],
      "metadata": {
        "id": "AX9rKDsicxB-"
      }
    },
    {
      "cell_type": "code",
      "source": [
        "### 1. Import packages\n",
        "\n",
        "import GEOparse\n",
        "import pandas as pd\n",
        "import transcriptomics_data_query as tdq"
      ],
      "metadata": {
        "id": "8YbEH102vqDa"
      },
      "execution_count": null,
      "outputs": []
    },
    {
      "cell_type": "code",
      "source": [
        "### 2. Obtain a GSE object for a GEO series accession using the GEOparse package\n",
        "\n",
        "# Link: https://www.ncbi.nlm.nih.gov/geo/query/acc.cgi?acc=GSE161750\n",
        "accession = \"GSE161750\"\n",
        "gse = GEOparse.get_GEO(accession)"
      ],
      "metadata": {
        "id": "U8zFq90dvwa5"
      },
      "execution_count": null,
      "outputs": []
    },
    {
      "cell_type": "code",
      "source": [
        "### 3. Download the raw data\n",
        "\n",
        "# If the output_dir argument is not specified, it will be created in the working directory.\n",
        "# For microarray data, this results in a directory of CEL.gz files.\n",
        "# If the accession was an RNASeq study, a counts file would be downloaded instead.\n",
        "tdq.geo.download_geo_expression_data(gse)"
      ],
      "metadata": {
        "id": "xmDPeZeVwoab"
      },
      "execution_count": null,
      "outputs": []
    },
    {
      "cell_type": "code",
      "source": [
        "### 4. Download and parse clinical characteristics\n",
        "\n",
        "# Save in current working directory, ./GSE161750_clinical.tsv\n",
        "clinical_file = f\"{accession}_clinical.tsv\"\n",
        "tdq.geo.get_geo_clinical_characteristics(gse, output_file=clinical_file)\n",
        "\n",
        "# View parsed clinical characteristics.\n",
        "# Probably need to clean it up manually in a spreadsheet program.\n",
        "pd.read_csv(clinical_file, sep='\\t')"
      ],
      "metadata": {
        "id": "DGkpZgAVz3WG"
      },
      "execution_count": null,
      "outputs": []
    },
    {
      "cell_type": "code",
      "source": [
        "### 5. Normalization (RMA for microarray, TMM for RNASeq)\n",
        "\n",
        "# If the accession is microarray data, input_path should be a directory of CEL.gz files\n",
        "norm_input_path = accession\n",
        "norm_save_path = f\"{accession}_expression_matrix.tsv\"\n",
        "tdq.preprocess.normalize(input_path=norm_input_path, output_file=norm_save_path)\n",
        "\n",
        "# For RNASeq, input_path should be the raw counts file, and clinical_file must also be specified.\n",
        "# norm_input_path = f\"{accession}_expression_matrix.tsv\"\n",
        "# norm_save_path = f\"{accession}_expression_matrix.tsv\"\n",
        "# tdq.preprocess.normalize(norm_input_path, norm_save_path, clinical_file)\n",
        "\n",
        "# Read normalized expression matrix from file\n",
        "expr_df = pd.read_csv(norm_save_path, sep=\"\\t\", index_col=0)\n",
        "\n",
        "# Clean up sample names (extract \"GSMxxxx\")\n",
        "expr_df = tdq.geo.clean_geo_sample_columns(expr_df)\n",
        "\n",
        "# Save expression matrix with cleaned sample names\n",
        "cleaned_save_path = norm_save_path  # overwrite old file\n",
        "expr_df.to_csv(cleaned_save_path, sep=\"\\t\")\n",
        "\n",
        "# Preview current expression matrix\n",
        "print(f\"Expression matrix for {accession} after normalization:\")\n",
        "expr_df.iloc[:8, :3]"
      ],
      "metadata": {
        "id": "0HXlbINxrvyk"
      },
      "execution_count": null,
      "outputs": []
    },
    {
      "cell_type": "code",
      "source": [
        "### 5b Map probes to genes (for microarray data only)\n",
        "expr_df = tdq.geo.map_probes_to_genes(expr_df, gse)\n",
        "\n",
        "# Overwrite previous expression matrix file\n",
        "expr_df.to_csv(cleaned_save_path, sep=\"\\t\")\n",
        "\n",
        "# Preview current expression matrix\n",
        "print(f\"Expression matrix for {accession} after mapping probes to genes:\")\n",
        "expr_df.iloc[:8, :3]"
      ],
      "metadata": {
        "id": "MeqPmuAe6X1B"
      },
      "execution_count": null,
      "outputs": []
    },
    {
      "cell_type": "code",
      "source": [
        "### 6. Further processing\n",
        "\n",
        "# The annotation table for GSE161750 (platform GPL23159) contains Ensembl gene and transcript IDs.\n",
        "# Suppose we want to filter the expression matrix by genes in the olfactory transduction pathway,\n",
        "# and want the genes listed as symbols. We can use the `preprocess` module to achieve this."
      ],
      "metadata": {
        "id": "7MxvjHDe9HZz"
      },
      "execution_count": null,
      "outputs": []
    },
    {
      "cell_type": "code",
      "source": [
        "### 6.1. Get gene symbols in the KEGG pathway for olfactory transduction\n",
        "gene_set = \"KEGG_OLFACTORY_TRANSDUCTION\"\n",
        "gene_set_symbols = tdq.preprocess.get_genes_from_msig_set(gene_set)\n",
        "# Alternatively you can read genes from a text file (1 gene per line):\n",
        "# gene_set_symbols = tdq.preprocess.get_genes_from_file(\"genes_of_interest.txt\")\n",
        "\n",
        "# Preview gene symbols in the list\n",
        "gene_set_symbols[:10]"
      ],
      "metadata": {
        "id": "apfaqlt7-Bo-"
      },
      "execution_count": null,
      "outputs": []
    },
    {
      "cell_type": "code",
      "source": [
        "# 6.2. Obtain the ensembl IDs for this set of genes\n",
        "# The convert_genes function uses mygene.info to convert genes from one format to another.\n",
        "# The function accepts 3 formats: symbol, Enseml ID (ensembl.gene), and Entrez ID (entrezgene).\n",
        "\n",
        "# Convert symbols to Ensembl IDs\n",
        "gene_set_ensembl = tdq.preprocess.convert_genes(\n",
        "    genes=gene_set_symbols, in_format=\"symbol\", out_format=\"ensembl.gene\", species=\"human\")\n",
        "\n",
        "# Discard not found genes\n",
        "gene_set_ensembl.dropna(inplace=True)\n",
        "\n",
        "# Preview Ensembl IDs in the gene set\n",
        "gene_set_ensembl.head()"
      ],
      "metadata": {
        "id": "VeuO8rSK-C-p"
      },
      "execution_count": null,
      "outputs": []
    },
    {
      "cell_type": "code",
      "source": [
        "# 6.3. Select rows in `expr_df` that contain these genes\n",
        "filtered_expression = tdq.preprocess.select_rows(expr_df, gene_set_ensembl)\n",
        "\n",
        "# 6.5. Preview the filtered expression matrix\n",
        "print(f\"\\nFiltered expression matrix for {accession} (Ensembl IDs)\")\n",
        "print(filtered_expression.iloc[:8, :3])"
      ],
      "metadata": {
        "id": "jwMaWuq59-nJ"
      },
      "execution_count": null,
      "outputs": []
    },
    {
      "cell_type": "code",
      "source": [
        "# 6.4. Optionally, convert the Ensemble IDs to gene symbols\n",
        "genes = filtered_expression.index\n",
        "filtered_expression.index = tdq.preprocess.convert_genes(genes, \"ensembl.gene\", \"symbol\")\n",
        "\n",
        "# Preview the matrisome expression matrix\n",
        "print(f\"\\nFiltered expression matrix for {accession} (gene symbols)\")\n",
        "print(filtered_expression.iloc[:8, :3])"
      ],
      "metadata": {
        "id": "UkiYbU7K-k-1"
      },
      "execution_count": null,
      "outputs": []
    }
  ]
}