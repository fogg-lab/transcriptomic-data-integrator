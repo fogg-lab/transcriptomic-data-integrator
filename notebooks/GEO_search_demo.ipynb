{
  "nbformat": 4,
  "nbformat_minor": 0,
  "metadata": {
    "colab": {
      "provenance": [],
      "authorship_tag": "ABX9TyOra8m7v22TlWrik3p5apCP",
      "include_colab_link": true
    },
    "kernelspec": {
      "name": "python3",
      "display_name": "Python 3"
    },
    "language_info": {
      "name": "python"
    }
  },
  "cells": [
    {
      "cell_type": "markdown",
      "metadata": {
        "id": "view-in-github",
        "colab_type": "text"
      },
      "source": [
        "<a href=\"https://colab.research.google.com/github/fogg-lab/transcriptomic-data-integrator/blob/main/notebooks/GEO_search_demo.ipynb\" target=\"_parent\"><img src=\"https://colab.research.google.com/assets/colab-badge.svg\" alt=\"Open In Colab\"/></a>"
      ]
    },
    {
      "cell_type": "markdown",
      "source": [
        "## Setup"
      ],
      "metadata": {
        "id": "0kKpaTbzLB7X"
      }
    },
    {
      "cell_type": "code",
      "execution_count": null,
      "metadata": {
        "id": "SlrxMzaMK6b8"
      },
      "outputs": [],
      "source": [
        "# Clone repository\n",
        "!git clone https://github.com/fogg-lab/transcriptomic-data-integrator.git\n",
        "\n",
        "# Install package\n",
        "!pip install ./transcriptomic-data-integrator"
      ]
    },
    {
      "cell_type": "code",
      "source": [
        "# Privately configure email address for the NCBI API\n",
        "from getpass import getpass\n",
        "import subprocess\n",
        "with open('/dev/null', 'w') as devnull:\n",
        "  subprocess.run([\"configure-ncbi-email\", getpass('Enter your email address: ')],\n",
        "                 stdout=devnull, stderr=devnull, check=True)"
      ],
      "metadata": {
        "id": "rl73S1d9LQT1"
      },
      "execution_count": null,
      "outputs": []
    },
    {
      "cell_type": "markdown",
      "source": [
        "## Examples"
      ],
      "metadata": {
        "id": "_svJlO1WMFNu"
      }
    },
    {
      "cell_type": "code",
      "source": [
        "\"\"\" Example 1: Basic keyword search \"\"\"\n",
        "import transcriptomic_data_integrator as tdi\n",
        "\n",
        "query = \"heart disease homo sapiens\"\n",
        "# Limit to 20 results (can be increased)\n",
        "max_results = 20\n",
        "\n",
        "id_list = tdi.geo.search_geo(query, max_results=max_results)\n",
        "\n",
        "descriptions = tdi.geo.get_descriptions_from_ids(id_list)\n",
        "for accession, study_description in descriptions.items():\n",
        "    print(f\"{accession}: {study_description}\")"
      ],
      "metadata": {
        "id": "S9CWpRgvMGVr"
      },
      "execution_count": null,
      "outputs": []
    },
    {
      "cell_type": "code",
      "source": [
        "\"\"\" Example 2: Search by gene symbol and organism \"\"\"\n",
        "import transcriptomic_data_integrator as tdi\n",
        "\n",
        "query = \"BRCA1[Gene Name] AND Homo sapiens[Organism]\"\n",
        "\n",
        "# Using default max_results which is 25\n",
        "id_list = tdi.geo.search_geo(query)\n",
        "\n",
        "descriptions = tdi.geo.get_descriptions_from_ids(id_list)\n",
        "for accession, study_description in descriptions.items():\n",
        "    print(f\"{accession}: {study_description}\")"
      ],
      "metadata": {
        "id": "nqEShch1MdZM"
      },
      "execution_count": null,
      "outputs": []
    },
    {
      "cell_type": "code",
      "source": [
        "\"\"\" Example 3: Search by platform technology \"\"\"\n",
        "import transcriptomic_data_integrator as tdi\n",
        "\n",
        "query = \"GPL10558[Platform] AND cancer\"\n",
        "\n",
        "# Limit to 50 results\n",
        "max_results = 50\n",
        "\n",
        "id_list = tdi.geo.search_geo(query, max_results=max_results)\n",
        "\n",
        "# Set the default accession to \"unknown\"\n",
        "descriptions = tdi.geo.get_descriptions_from_ids(id_list, default_accession=\"unknown\")\n",
        "for accession, study_description in descriptions.items():\n",
        "    print(f\"{accession}: {study_description}\")"
      ],
      "metadata": {
        "id": "niGhvSGoNFN9"
      },
      "execution_count": null,
      "outputs": []
    },
    {
      "cell_type": "code",
      "source": [
        "\"\"\" Example 4: Search by publication date range \"\"\"\n",
        "import transcriptomic_data_integrator as tdi\n",
        "\n",
        "# Liver disease studies added to GEO in the first week of 2023\n",
        "query = \"2023/01/01[PDAT] : 2023/01/07[PDAT] AND liver disease\"\n",
        "\n",
        "id_list = tdi.geo.search_geo(query)\n",
        "\n",
        "descriptions = tdi.geo.get_descriptions_from_ids(id_list, default_accession=\"unknown\")\n",
        "for accession, study_description in descriptions.items():\n",
        "    print(f\"{accession}: {study_description}\")"
      ],
      "metadata": {
        "id": "HBXLPKvoNHpI"
      },
      "execution_count": null,
      "outputs": []
    },
    {
      "cell_type": "code",
      "source": [
        "\"\"\" Example 5: Search by study type \"\"\"\n",
        "import transcriptomic_data_integrator as tdi\n",
        "\n",
        "# Microarray studies related to diabetes\n",
        "query = \"Expression profiling by array[Study Type] AND diabetes\"\n",
        "\n",
        "# Show up to 75 results\n",
        "id_list = tdi.geo.search_geo(query, max_results=75)\n",
        "\n",
        "descriptions = tdi.geo.get_descriptions_from_ids(id_list)\n",
        "for accession, study_description in descriptions.items():\n",
        "    print(f\"{accession}: {study_description}\")"
      ],
      "metadata": {
        "id": "ecd8Q-06NJFz"
      },
      "execution_count": null,
      "outputs": []
    }
  ]
}