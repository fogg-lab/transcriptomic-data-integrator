{
  "nbformat": 4,
  "nbformat_minor": 0,
  "metadata": {
    "colab": {
      "provenance": [],
      "authorship_tag": "ABX9TyMo4fI/y4fLK5WJeWb6phct",
      "include_colab_link": true
    },
    "kernelspec": {
      "name": "python3",
      "display_name": "Python 3"
    },
    "language_info": {
      "name": "python"
    }
  },
  "cells": [
    {
      "cell_type": "markdown",
      "metadata": {
        "id": "view-in-github",
        "colab_type": "text"
      },
      "source": [
        "<a href=\"https://colab.research.google.com/github/fogg-lab/transcriptomics-data-query-and-retrieval/blob/main/notebooks/GEO_search_demo.ipynb\" target=\"_parent\"><img src=\"https://colab.research.google.com/assets/colab-badge.svg\" alt=\"Open In Colab\"/></a>"
      ]
    },
    {
      "cell_type": "markdown",
      "source": [
        "## Setup"
      ],
      "metadata": {
        "id": "0kKpaTbzLB7X"
      }
    },
    {
      "cell_type": "code",
      "execution_count": 1,
      "metadata": {
        "colab": {
          "base_uri": "https://localhost:8080/"
        },
        "id": "SlrxMzaMK6b8",
        "outputId": "64afc6cd-6e0a-4c54-c34b-2a71e512831b"
      },
      "outputs": [
        {
          "output_type": "stream",
          "name": "stdout",
          "text": [
            "Cloning into 'transcriptomics-data-query-and-retrieval'...\n",
            "remote: Enumerating objects: 75, done.\u001b[K\n",
            "remote: Counting objects: 100% (75/75), done.\u001b[K\n",
            "remote: Compressing objects: 100% (60/60), done.\u001b[K\n",
            "remote: Total 75 (delta 30), reused 42 (delta 10), pack-reused 0\u001b[K\n",
            "Receiving objects: 100% (75/75), 19.53 KiB | 3.91 MiB/s, done.\n",
            "Resolving deltas: 100% (30/30), done.\n",
            "Processing ./transcriptomics-data-query-and-retrieval\n",
            "  Preparing metadata (setup.py) ... \u001b[?25l\u001b[?25hdone\n",
            "Collecting biopython (from transcriptomics-data-query==0.1)\n",
            "  Downloading biopython-1.81-cp310-cp310-manylinux_2_17_x86_64.manylinux2014_x86_64.whl (3.1 MB)\n",
            "\u001b[2K     \u001b[90m━━━━━━━━━━━━━━━━━━━━━━━━━━━━━━━━━━━━━━━━\u001b[0m \u001b[32m3.1/3.1 MB\u001b[0m \u001b[31m9.4 MB/s\u001b[0m eta \u001b[36m0:00:00\u001b[0m\n",
            "\u001b[?25hCollecting GEOparse (from transcriptomics-data-query==0.1)\n",
            "  Downloading GEOparse-2.0.3.tar.gz (278 kB)\n",
            "\u001b[2K     \u001b[90m━━━━━━━━━━━━━━━━━━━━━━━━━━━━━━━━━━━━━━\u001b[0m \u001b[32m278.5/278.5 kB\u001b[0m \u001b[31m11.9 MB/s\u001b[0m eta \u001b[36m0:00:00\u001b[0m\n",
            "\u001b[?25h  Preparing metadata (setup.py) ... \u001b[?25l\u001b[?25hdone\n",
            "Requirement already satisfied: pandas in /usr/local/lib/python3.10/dist-packages (from transcriptomics-data-query==0.1) (1.5.3)\n",
            "Requirement already satisfied: requests in /usr/local/lib/python3.10/dist-packages (from transcriptomics-data-query==0.1) (2.31.0)\n",
            "Requirement already satisfied: numpy in /usr/local/lib/python3.10/dist-packages (from biopython->transcriptomics-data-query==0.1) (1.23.5)\n",
            "Requirement already satisfied: tqdm>=4.31.1 in /usr/local/lib/python3.10/dist-packages (from GEOparse->transcriptomics-data-query==0.1) (4.66.0)\n",
            "Requirement already satisfied: python-dateutil>=2.8.1 in /usr/local/lib/python3.10/dist-packages (from pandas->transcriptomics-data-query==0.1) (2.8.2)\n",
            "Requirement already satisfied: pytz>=2020.1 in /usr/local/lib/python3.10/dist-packages (from pandas->transcriptomics-data-query==0.1) (2023.3)\n",
            "Requirement already satisfied: charset-normalizer<4,>=2 in /usr/local/lib/python3.10/dist-packages (from requests->transcriptomics-data-query==0.1) (3.2.0)\n",
            "Requirement already satisfied: idna<4,>=2.5 in /usr/local/lib/python3.10/dist-packages (from requests->transcriptomics-data-query==0.1) (3.4)\n",
            "Requirement already satisfied: urllib3<3,>=1.21.1 in /usr/local/lib/python3.10/dist-packages (from requests->transcriptomics-data-query==0.1) (2.0.4)\n",
            "Requirement already satisfied: certifi>=2017.4.17 in /usr/local/lib/python3.10/dist-packages (from requests->transcriptomics-data-query==0.1) (2023.7.22)\n",
            "Requirement already satisfied: six>=1.5 in /usr/local/lib/python3.10/dist-packages (from python-dateutil>=2.8.1->pandas->transcriptomics-data-query==0.1) (1.16.0)\n",
            "Building wheels for collected packages: transcriptomics-data-query, GEOparse\n",
            "  Building wheel for transcriptomics-data-query (setup.py) ... \u001b[?25l\u001b[?25hdone\n",
            "  Created wheel for transcriptomics-data-query: filename=transcriptomics_data_query-0.1-py3-none-any.whl size=8648 sha256=d516b029227b5324cadc87e96261da9d18a3fe1862daab70cb9784154fdda3d8\n",
            "  Stored in directory: /root/.cache/pip/wheels/f6/04/ae/09175569e39ca781736d5cdc0b77543fc1629b610009352108\n",
            "  Building wheel for GEOparse (setup.py) ... \u001b[?25l\u001b[?25hdone\n",
            "  Created wheel for GEOparse: filename=GEOparse-2.0.3-py3-none-any.whl size=29046 sha256=25055200d40265ba1505cd5f072d9aaf8af37eb718f2a5119deb948dc44e557f\n",
            "  Stored in directory: /root/.cache/pip/wheels/14/96/7a/2ccb3a2a9e6f57b1c758b4ced8445fad36bba011bcebb2775f\n",
            "Successfully built transcriptomics-data-query GEOparse\n",
            "Installing collected packages: biopython, GEOparse, transcriptomics-data-query\n",
            "Successfully installed GEOparse-2.0.3 biopython-1.81 transcriptomics-data-query-0.1\n"
          ]
        }
      ],
      "source": [
        "# Clone repository\n",
        "!git clone https://github.com/fogg-lab/transcriptomics-data-query-and-retrieval.git\n",
        "\n",
        "# Install package\n",
        "!pip install ./transcriptomics-data-query-and-retrieval"
      ]
    },
    {
      "cell_type": "code",
      "source": [
        "# Privately configure email address for the NCBI API\n",
        "from getpass import getpass\n",
        "import subprocess\n",
        "with open('/dev/null', 'w') as devnull:\n",
        "  subprocess.run([\"configure-ncbi-email\", getpass('Enter your email address: ')],\n",
        "                 stdout=devnull, stderr=devnull, check=True)"
      ],
      "metadata": {
        "colab": {
          "base_uri": "https://localhost:8080/"
        },
        "id": "rl73S1d9LQT1",
        "outputId": "994e8856-740f-42ec-8cf3-f56f5256ec30"
      },
      "execution_count": 2,
      "outputs": [
        {
          "name": "stdout",
          "output_type": "stream",
          "text": [
            "Enter your email address: ··········\n"
          ]
        }
      ]
    },
    {
      "cell_type": "markdown",
      "source": [
        "## Examples"
      ],
      "metadata": {
        "id": "_svJlO1WMFNu"
      }
    },
    {
      "cell_type": "code",
      "source": [
        "\"\"\" Example 1: Basic keyword search \"\"\"\n",
        "import transcriptomics_data_query as tdq\n",
        "\n",
        "# Note: If you get HTTP errors, try running it again. The API is finicky.\n",
        "\n",
        "query = \"heart disease homo sapiens\"\n",
        "# Limit to 20 results (can be increased)\n",
        "max_results = 20\n",
        "\n",
        "id_list = tdq.geo.search_geo(query, max_results=max_results)\n",
        "\n",
        "descriptions = tdq.geo.get_descriptions_from_ids(id_list)\n",
        "for accession, study_description in descriptions.items():\n",
        "    print(f\"{accession}: {study_description}\")"
      ],
      "metadata": {
        "colab": {
          "base_uri": "https://localhost:8080/"
        },
        "id": "S9CWpRgvMGVr",
        "outputId": "e7384cae-1b1d-4449-af48-c6dc7daa4479"
      },
      "execution_count": 3,
      "outputs": [
        {
          "output_type": "stream",
          "name": "stdout",
          "text": [
            "Hits: 20794\n",
            "GSE199647: Torsion of the heart tube by shortage of progenitor cells: identification of Greb1l as a genetic determinant of criss-cross hearts in mice\n",
            "GSE240321: Identification of host endotypes using peripheral blood transcriptomics in a prospective cohort of patients with endocarditis\n",
            "GSE240320: Identification of host endotypes using peripheral blood transcriptomics in a prospective cohort of patients with endocarditis [pre-post_qx]\n",
            "GSE240319: Identification of host endotypes using peripheral blood transcriptomics in a prospective cohort of patients with endocarditis [pre]\n",
            "GSE240215: MYSM1 acts as a novel co-activator of ERα via histone and non-histone deubiquitination to confer antiestrogen resistance in breast cancer\n",
            "GSE229229: Cardiac Myofibrillogenesis 1 is Spatiotemporally Modulated by the Molecular Chaperone UNC45B\n",
            "GSE228966: Phosphorylated nuclear DICER1 promotes open chromatin state and gastric cell fate in lung adenocarcinomas [Nanostring]\n",
            "GSE228965: Phosphorylated nuclear DICER1 promotes open chromatin state and gastric cell fate in lung adenocarcinomas [scRNA-seq]\n",
            "GSE228964: Phosphorylated nuclear DICER1 promotes open chromatin state and gastric cell fate in lung adenocarcinomas [ATAC-seq]\n",
            "GSE201343: Human iPSC-derived heart organoids modeling the etiology of pregestational diabetes induced congenital heart defects\n",
            "GSE154548: Transcriptomic profiles of advanced colorectal adenomas from 40 Korean patients\n",
            "GSE239758: The mRNA-lncRNA-circRNA network profiling of Turner syndrome patient-derived induced pluripotent stem cells and their derived cardiomyocytes\n",
            "GSE240053: Secreted-frizzled-related protein 5 modulates calcium handling in human iPSC-cardiomyocytes\n",
            "GSE181656: the peptide PDTLN1 induces the expression of a set of genes in P19 cells\n",
            "GSE233223: spatial RNA-seq of SCG\n",
            "GSE231767: heart healthy and heart diseased SCGs\n",
            "GSE231766: single-cell RNA-seq of healthy (ctrl) and heart diseased (TAC) SCGs\n",
            "GSE231765: single-nucleus RNA-seq of healthy (sham) and heart diseased (TAC) SCGs\n",
            "GSE231764: RNA-seq of heart healthy and heart diseased SCGs and pineal glands\n",
            "GSE231763: RNA-seq of heart healthy and heart diseased SCGs\n"
          ]
        }
      ]
    },
    {
      "cell_type": "code",
      "source": [
        "\"\"\" Example 2: Search by gene symbol and organism \"\"\"\n",
        "import transcriptomics_data_query as tdq\n",
        "\n",
        "query = \"BRCA1[Gene Name] AND Homo sapiens[Organism]\"\n",
        "\n",
        "# Using default max_results which is 25\n",
        "id_list = tdq.geo.search_geo(query)\n",
        "\n",
        "descriptions = tdq.geo.get_descriptions_from_ids(id_list)\n",
        "for accession, study_description in descriptions.items():\n",
        "    print(f\"{accession}: {study_description}\")"
      ],
      "metadata": {
        "colab": {
          "base_uri": "https://localhost:8080/"
        },
        "id": "nqEShch1MdZM",
        "outputId": "14d60ea1-e126-4b41-e377-dd90913954fb"
      },
      "execution_count": 4,
      "outputs": [
        {
          "output_type": "stream",
          "name": "stdout",
          "text": [
            "Hits: 10436\n",
            "GSE237361: Effects of PARP inhibition on the transcriptome in BRCA1 wild-type and BRCA1 deficient ovarian cancer cell lines\n",
            "GSE235980: RNA-Seq of PARPi-resistant ovarian cancer cells\n",
            "GSE226018: Role of ALDH1A1 in PARPi resistance in ovarian cancer\n",
            "GSE205366: FBL promotes cancer cell proliferation and DNA damage repair via YBX1\n",
            "GSE180865: GNL3/nucleostemin links DNA replication homeostasis and replication forks stability\n",
            "GSE218171: β-Trcp and RSK2-mediated ubiquitination of FOXN3 facilitates BRCA1-dependent DNA damage repair in lung cancer\n",
            "GSE215908: Single cell RNA sequence reveals C5aR1 inhibition selectively targets pro-tumorigenic M2 macrophages reversing PARP inhibitor resistance\n",
            "GSE234482: DNA Repair Function Scores for 2172 Variants in the BRCA1 Amino-Terminus\n",
            "GSE205221: A genome-wide CRISPR screen identifies ZNF251 critical for resistance to PARP inhibitors\n",
            "GSE226445: Identification of BRCA1/2 mutation carriers using circulating microRNA profiles \n",
            "GSE173223: Excessive transcription-replication conflicts are a vulnerability of BRCA1-mutant cancers\n",
            "GSE229315: Clinical relevance of BRCA1 promoter methylation testing in ovarian cancer patients.\n",
            "GSE197656: In uveal melanoma Gα-protein GNA11 mutations convey a shorter disease-specific survival and are more strongly associated with loss of BAP1 and chromosomal alterations than Gα-protein GNAQ mutations\n",
            "GSE223101: miRNA deregulation and relationship with metabolic parameters after Mediterrran ary intervention in BRCA-mutated women\n",
            "GSE223011: Pharmacological depletion of RNA splicing factor RBM39 by indisulam synergizes with PARP inhibitors in high-grade serous ovarian carcinoma\n",
            "GSE180661: Ovarian cancer mutational processes drive site-specific immune evasion\n",
            "GSE196985: A β-catenin-regulated RNA processing transcriptional program imposes chemotherapy resistance and predicts T-ALL patient survival associated with high BRCA1 levels [RNA-Seq]\n",
            "GSE180650: A β-catenin-regulated RNA processing transcriptional program imposes chemotherapy resistance and predicts T-ALL patient survival associated with high BRCA1 levels [ChIP-Seq]\n",
            "GSE208532: The cellular landscape of breast cancer associated malignant pleural effusions\n",
            "GSE160902: Differential expression from healthy skin derived melanocyte-keratinocyte co-culture from familial melanoma patients vs controls\n",
            "GSE202086: IRX5 promotes DNA damage repair and activation of hair follicle stem cells [NHEK RNA-Seq]\n",
            "GSE202075: IRX5 promotes DNA damage repair and activation of hair follicle stem cells [nhek_d]\n",
            "GSE178841: cytoDRIP-seq in HeLa cells\n",
            "GSE214121: Ubiquitinated PCNA drives USP1 synthetic lethality in cancer\n",
            "GSE196860: MBD5 and MBD6 stabilize the BAP1 complex and promote BAP1-dependent cancer\n"
          ]
        }
      ]
    },
    {
      "cell_type": "code",
      "source": [
        "\"\"\" Example 3: Search by platform technology \"\"\"\n",
        "import transcriptomics_data_query as tdq\n",
        "\n",
        "query = \"GPL10558[Platform] AND cancer\"\n",
        "\n",
        "# Limit to 50 results\n",
        "max_results = 50\n",
        "\n",
        "id_list = tdq.geo.search_geo(query, max_results=max_results)\n",
        "\n",
        "# Set the default accession to \"unknown\"\n",
        "descriptions = tdq.geo.get_descriptions_from_ids(id_list, default_accession=\"unknown\")\n",
        "for accession, study_description in descriptions.items():\n",
        "    print(f\"{accession}: {study_description}\")"
      ],
      "metadata": {
        "colab": {
          "base_uri": "https://localhost:8080/"
        },
        "id": "niGhvSGoNFN9",
        "outputId": "b4d52070-955f-46da-9fdb-bb6fcbe13181"
      },
      "execution_count": 5,
      "outputs": [
        {
          "output_type": "stream",
          "name": "stdout",
          "text": [
            "Hits: 24959\n",
            "GSE235641: Bi-directional interactions of omental adipocytes and SKOV3ip1 cells\n",
            "GSE211913: C99R mutation in IRF4 drives a novel gain of function binding and gene upregulation in classical Hodgkin lymphoma [Illumina BeadChip]\n",
            "GSE211445: C99R mutation in IRF4 drives a novel gain of function binding and gene upregulation in classical Hodgkin lymphoma\n",
            "GSE218172: KLF10 modulates stem cell phenotypes of pancreatic adenocarcinoma by transcriptionally regulating notch receptors\n",
            "GSE233350: Identification of KMT5A regulated genes in prostate cancer\n",
            "GSE61883: Distinct molecular profiles for histological subtypes of epithelial ovarian adenocarcinomas\n",
            "GSE113865: Genome-wide gene expression analysis of triple negative breast cancer tissue and matched normal tissue\n",
            "GSE107636: MacroH2A1.2 inhibits prostate cancer-induced osteoclastogensis through cooperation with HP1a and H1.2\n",
            "GSE221311: Expression data from HDLEC treated with melanosome\n",
            "GSE207647: Microarray gene expression analyses of HCT116 parental and isogenic p53KO cell lines\n",
            "GSE54250: mRNA/miRNA profiling of peripheral blood samples in PCOS patients\n",
            "GSE54248: Microarray mRNA expression profiling of peripheral blood samples in PCOS patients\n",
            "GSE198672: Drug tolerant persisters in erlotinib treated EGFR-mutated lung adenocarcinoma arise from pre-existing tumor cells and survive in an adapted stromal microenvironment\n",
            "GSE146049: NIK/MAP3K14 in hepatocytes orchestrates NASH to hepatocellular carcinoma progression via JAK2/STAT5 inhibition\n",
            "GSE217360: The non-apoptotic function of Caspase-8 in negatively regulating the CDK9 mediated Ser2 phosphorylation of RNA Polymerase II in cervical cancer\n",
            "GSE153127: Purinergic antiplatelet-treated colon cancer cells induce SERPINE1 and MAPK-MMP1 signaling pathways associated with metastasis.\n",
            "GSE208004: PI3K/AKT signaling allows for MAPK/ERK pathway independency mediating dedifferentiation-driven treatment resistance in melanoma\n",
            "GSE198509: Gene expression profiling in 3 different melanoma cells under adhesion and suspension\n",
            "GSE206243: Genome-wide analysis of gene expression regulated by APPL1/2 proteins in human PC-3U cells\n",
            "GSE181644: Vitamin D treatment induces in vitro and ex vivo transcriptomic changes indicating anti-tumour effects\n",
            "GSE161911: Targeting Aberrant Replication and DNA Repair Events for Treating Breast Cancers\n",
            "GSE131744: The gene expressional profiles between U87MG glioma cells and the derived TMZ-resistance cells\n",
            "GSE130917: SOX7 regulates MAPK/ERK-BIM mediated apoptosis in cancer cells\n",
            "GSE98267: Microarray analysis of knockdown of nicotinamide N-methyltransferase (NNMT) in human cancer-associated fibroblasts\n",
            "GSE178631: A prognostic hypoxia gene signature with low heterogeneity within the dominant tumour lesion in prostate cancer patients.\n",
            "GSE129279: Gene expression profiling of MM cells treated with FGF-trap molecule NSC12\n",
            "GSE189717: Differential and divergent activity of Insulin-like Growth Factor Binding Protein 6 (IGFBP6) in  platinum-sensitive versus platinum-resistant high-grade serous ovarian carcinoma cell lines.\n",
            "GSE197802: Colorectal Cancer Concurrent Gene Signature Based on Coherent Patterns between Genomic and Transcriptional Alterations\n",
            "GSE113077: The GPR55 inhibitor (R,S’)-4’-methoxynaphthylfenoterol prevents pancreatic tumor growth via metabolic rewiring\n",
            "GSE189492: Acute myeloid leukemia cells functionally compromise hematopoietic stem/progenitor cells inhibiting normal hematopoiesis through the release of extracellular vesicles\n",
            "GSE191215: IL11RA signaling and EZH2 activity in osteosarcoma\n",
            "GSE196290: Comparing expression profiles : among comparable samples in which target genes are knocked down\n",
            "GSE196289: Transcriptome analysis after knockdown of target genes (either HSP27 or TGF-β1, both HSP27 and TGF-β1) via shRNAs in MDA-MB-231 cells\n",
            "GSE196288: Transcriptome analysis after knockdown of target genes (either HSP27 or TGF-β1, both HSP27 and TGF-β1) via shRNAs in MIA PaCa-2 cells\n",
            "GSE142117: Novel non-integrating DNA Nano-S/MAR vectors restore gene function in patient-derived pancreatic tumour models II\n",
            "GSE142115: Novel non-integrating DNA Nano-S/MAR vectors restore gene function in patient-derived pancreatic tumour models I\n",
            "GSE99756: Transcriptome profiling of HepG2 cells in Cdc20 overexpressed and downregulated condition\n",
            "GSE189711: Mitochondrial Plasticity Promotes Resistance to Sorafenib and Vulnerability to STAT3 Inhibition in Human Hepatocellular Carcinoma\n",
            "GSE169735: SMAD4 is dispensable for execution of epithelial-mesenchymal transition downstream of SNAIL1 in colorectal cancer cells\n",
            "GSE166999: Integrative analysis of non-small cell lung cancer patient-derived xenografts identifies unique proteotypes associated with patient outcomes\n",
            "GSE166997: Integrative analysis of non-small cell lung cancer patient-derived xenografts identifies unique proteotypes associated with patient outcomes [HT12v4]\n",
            "GSE122448: KLK6-related gene expression profile in FaDu cells\n",
            "GSE121649: TET1 knockdown cancer cell lines\n",
            "GSE121647: Analysis of tanscriptome reprogramming after knockdown of TET1 in cancer cell lines\n",
            "GSE186110: Functional screen of Inflammatory bowel disease genes reveals key epithelial functions: Illumina Whole Genome Dataset\n",
            "GSE158120: Gene Expression Profile of Diffuse Large B-Cell Lymphoma Cells upon inhibition of PIM kinanses\n",
            "GSE120687: The Role of the RNA-binding protein HuR in MPNST growth and metastasis\n",
            "GSE120684: The Role of the RNA-binding protein HuR in MPNST growth and metastasis [RIP-chip]\n",
            "GSE120193: Genome-wide analysis of gene expression by LSD1 overexpression or inhibiting by ORY1001 with or without irradiation in MDA-MB-231 breast cancer cells\n",
            "GSE180126: The RNA-binding protein ESRP1 modulates the expression of RAC1b in colorectal cancer cells  [COLO320DM]\n"
          ]
        }
      ]
    },
    {
      "cell_type": "code",
      "source": [
        "\"\"\" Example 4: Search by publication date range \"\"\"\n",
        "import transcriptomics_data_query as tdq\n",
        "\n",
        "# Liver disease studies added to GEO in the first week of 2023\n",
        "query = \"2023/01/01[PDAT] : 2023/01/07[PDAT] AND liver disease\"\n",
        "\n",
        "id_list = tdq.geo.search_geo(query)\n",
        "\n",
        "descriptions = tdq.geo.get_descriptions_from_ids(id_list, default_accession=\"unknown\")\n",
        "for accession, study_description in descriptions.items():\n",
        "    print(f\"{accession}: {study_description}\")"
      ],
      "metadata": {
        "colab": {
          "base_uri": "https://localhost:8080/"
        },
        "id": "HBXLPKvoNHpI",
        "outputId": "ac54e0a5-f7ae-4aa8-a7b5-88205bf01dac"
      },
      "execution_count": 6,
      "outputs": [
        {
          "output_type": "stream",
          "name": "stdout",
          "text": [
            "Hits: 130\n",
            "GSE203329: Gene expression profiles of  METTL5-Wild type(WT) knockout(KO) in HCC cells\n",
            "GSE164359: Integrated multiomic analysis reveals comprehensive tumor heterogeneity in primary and recurrent hepatocellular carcinomas\n",
            "GSE222171: Liver-specific FGFR4 knockdown in mice on a HFD increases bile acid synthesis and improves hepatic steatosis\n",
            "GSE212363: mRNA expression data from livers of wild-type (WT) mice, mice that lack ribosomal protein S6 (Rps6) (DS6), mice that overexpress c-Myc (Myc) and livers that lack Rps6 and also overexpress c-Myc (DS6 Myc)\n",
            "GSE215909: A CRISPR/Cas9 library screening identified CARM1 as a critical inhibitor for Sorafenib-induced ferroptosis in hepatocellular carcinoma cells [CRISPR screen]\n",
            "GSE215263: A CRISPR/Cas9 library screening identified CARM1 as a critical inhibitor for Sorafenib-induced ferroptosis in hepatocellular carcinoma cells\n",
            "GSE207758: Lysine 117 Residue is Essential for the Function of the Hepatocyte nuclear factor 1α\n",
            "GSE207303: HepG2 HepAD38 TP53BP2-knockdown\n",
            "GSE207302: HepG2 TP53BP2-knockdown\n",
            "GSE207301: HepAD38 TP53BP2-knockdown\n",
            "GSE193329: Next Generation Sequencing Facilitates Quantitative Analysis of shPLKO- and shPSPH-Cancer Cell Transcriptomes\n",
            "GSE188328: Characterization and MicroRNA Levels of Serum-Derived Extracellular Vesicles in Hepatitis B Virus-Related diseases\n",
            "unknown: II1_C\n"
          ]
        }
      ]
    },
    {
      "cell_type": "code",
      "source": [
        "\"\"\" Example 5: Search by study type \"\"\"\n",
        "import transcriptomics_data_query as tdq\n",
        "\n",
        "# Microarray studies related to diabetes\n",
        "query = \"Expression profiling by array[Study Type] AND diabetes\"\n",
        "\n",
        "# Show up to 75 results\n",
        "id_list = tdq.geo.search_geo(query, max_results=75)\n",
        "\n",
        "descriptions = tdq.geo.get_descriptions_from_ids(id_list)\n",
        "for accession, study_description in descriptions.items():\n",
        "    print(f\"{accession}: {study_description}\")"
      ],
      "metadata": {
        "colab": {
          "base_uri": "https://localhost:8080/"
        },
        "id": "ecd8Q-06NJFz",
        "outputId": "7ab87001-3eea-4ae7-9654-6a2d6cbdba2d"
      },
      "execution_count": 7,
      "outputs": [
        {
          "output_type": "stream",
          "name": "stdout",
          "text": [
            "Hits: 1270\n",
            "GSE161750: Acute and long-term exercise adaptation of adipose tissue and skeletal muscle in humans: a matched transcriptomics approach after 8-week training-intervention\n",
            "GSE161749: Acute and long-term exercise adaptation of adipose tissue and skeletal muscle in humans: a matched transcriptomics approach after 8-week training-intervention\n",
            "GSE156908: Reducing NADPH synthesis counteracts diabetic nephropathy through restoration of AMPK activity\n",
            "GSE179768: The link between diabetes main metabolic alterations and breast cancer progression\n",
            "GSE210517: Protective role of gut insulin action in the development of nonalcoholic steatohepatitis and hepatocellular carcinoma associated with diabetes in mice\n",
            "GSE189005: RNA expression profiles of whole blood cells from a Han Chinese population with or without Type-2 Diabetes Mellitus or/and its complications in nephropathy and retinopathy\n",
            "GSE101820: Cdk4-E2F3 signals enhance skeletal muscle oxidative function and improve whole  body metabolism\n",
            "GSE235670: Analysis of gene expression in pancreatic beta-cells of NOD mice\n",
            "GSE222883: Periodontitis-induced inflammation: impacts of hyperglycemic microenvironment\n",
            "GSE158763: Adoptive transfer of type 2 diabetes by hematopoietic stem cells reprogrammed in utero by vitamin D deficiency\n",
            "GSE150794: Effects of Aflibercept administration at 25 mg per kg body weight in retinas of mice subjected to the oxygen-induced retinopathy protocol [P50]\n",
            "GSE227080: Early differentially expressed immunological genes   in mild and severe COVID-19\n",
            "GSE210853: Expression data from regulatory T cells of lymph nodes from NOD and NOD.Drak2-/- mice\n",
            "GSE228910: Canagliflozin impairs T-cell effector function via metabolic suppression in autoimmunity [Metabolic Pathways]\n",
            "GSE228909: Canagliflozin impairs T-cell effector function via metabolic suppression in autoimmunity [Autoimmune Profiling]\n",
            "GSE210365: Chronic stress targets mitochondrial respiratory efficiency in the skeletal muscle of C57BL/6 mice [Transcriptome Dataset]\n",
            "GSE227714: Microarray analysis of choline-deficient L-amino acid-defined (CDAA) diet-induced NAFLD animal model.\n",
            "GSE146921: Profiling the lncRNA-miRNA-mRNA interaction network in diabetes submandibular gland\n",
            "GSE180395: Glomerular and Tubular Transcriptome in the Cprobe Cohort\n",
            "GSE180394: Tubular Transcriptome in the Cprobe Cohort\n",
            "GSE180393: Glomerular Transcriptome in the Cprobe Cohort\n",
            "GSE213546: Transcriptomic analysis of human lens and age-related cataract\n",
            "GSE201092: Sodium ferrous citrate and 5-aminolevulinic acid improve type 2 diabetes by maintaining muscle and mitochondrial health\n",
            "GSE224310: Acute versus long-term exercise adaptation of adipose tissue and skeletal muscle in humans: A matched transcriptomics approach after 8-week training-intervention\n",
            "GSE216668: Cγ and lupanine enhances in vivo the antidiabetic effect and involves modulation of the liver gene expression profile\n",
            "GSE193022: Blood leukocyte transcriptional modules and differentially expressed genes associated with disease severity and age in COVID-19 patients\n",
            "GSE219084: Transcriptomic analysis reveals retinal neuromodulation by sitagliptin in an experimental model of diabetic retinopathy\n",
            "GSE211310: Gene expression in 832/13 INS1 beta-cells transduced with lentiviral vector conferring expression of GFP or Pax5\n",
            "GSE190025: The impact of hyperglycemia upon BeWo trophoblast cell metabolic function: A multi-OMICS and functional metabolic analysis\n",
            "GSE85496: Microarray mRNA expression profiling in Stat5b knockdown pancreatic beta cell line\n",
            "GSE221486: Evaluation of expression profiles due to garlic intake in young men and women.\n",
            "GSE220256: Expression data of islets between 3- and 7- day old pigs\n",
            "GSE128665: Elevated Extra-cellular Matrix Signaling in Adipose Mesothelial Cells is Linked to Insulin Resistance in Obesity\n",
            "GSE218344: LncRNAs expression profiles in renal tissues from patients with diabetic nephropathy\n",
            "GSE138719: Effects of Intravitreal Injection of Human CD34+ Bone Marrow Stem Cells in a Murine Model of Diabetic Retinopathy\n",
            "GSE198617: Probiotic supplementation with Lactiplantibacillus plantarum 299v modulates ER and oxidative stress pathways in ?-cells and prevents Type 1 diabetes in gluten-free BioBreeding Rats\n",
            "GSE184612: TGFB in bone marrow dysfunction in diabetes\n",
            "GSE214338: Development of LncRNAs expression signisure of STZ induced rats skin\n",
            "GSE210611: Monoamine oxidase-dependent pro-survival signaling in diabetic hearts [total RNA]\n",
            "GSE151400: Deleterious effects of high sucrose diet on intestinal homeostasis in mice\n",
            "GSE211172: Assessment of unique behavioral, morphological, and molecular alterations in the comparative developmental toxicity profiles of PFBA using the zebrafish model system\n",
            "GSE211171: Assessment of unique behavioral, morphological, and molecular alterations in the comparative developmental toxicity profiles of PFHxA using the zebrafish model system\n",
            "GSE211169: Assessment of unique behavioral, morphological, and molecular alterations in the comparative developmental toxicity profiles of PFOA using the zebrafish model system\n",
            "GSE197101: Comparitive genomics of multiple backcross mouse populations identifies Sgcg as a novel potential obesity-modifier gene\n",
            "GSE191210: Vitreous of proliferative diabetic retinopathy patients\n",
            "GSE206705: Comparison of gene expression between islets from NOD-Rag and NOD-Idd22 mice\n",
            "GSE206525: OASIS overexpression in murine podocyte cell line\n",
            "GSE132599: Effect of Astragalus Polysaccharide Combined with Metformin on Liver mRNA expression profile in aging type 2 diabetic mice and functional analysis\n",
            "GSE133666: Gene expression data from human omental adipose tissue\n",
            "GSE190949: Alteration of ileal lncRNAs after bariatric surgery is associated with regulation of lipid and amino acid metabolism\n",
            "GSE186106: Knockdown of the nucleoside diphosphate linked moiety X-type motif Nudt19 increases fatty acid oxidation and ATP production in murine liver cells\n",
            "GSE199148: Human placental tissues:control group vs non-diabetic fetal macrosomia (NDFMS) group\n",
            "GSE179718: Bezafibrate reduces the elevated hepatic fumarate level in insulin-deficient streptozotocin mice [skeletal muscle tissue]\n",
            "GSE179717: Bezafibrate reduces the elevated hepatic fumarate level in insulin-deficient streptozotocin mice [visceral adipose tissue]\n",
            "GSE179719: Bezafibrate reduces the elevated hepatic fumarate in insulin-deficient mice.\n",
            "GSE162622: Probiotic normalization of systemic inflammation in siblings of Type 1 diabetes patients\n",
            "GSE197285: Diverging metabolic effects of two energy restricted diets differing in nutrient quality: a 12-week randomized controlled trial in subjects with abdominal obesity\n",
            "GSE182906: Topical estrogen application promotes cutaneous wound healing in db/db female mice with type 2 diabetes\n",
            "GSE169402: The role of intestinal iron absorption machinery in regulating gut hormone secretion and systemic metabolism [Duodenum]\n",
            "GSE169400: The role of intestinal iron absorption machinery in regulating gut hormone secretion and systemic metabolism [Ileum]\n",
            "GSE194119: Exosomal RNA expression profiles and their prediction performance in gestational diabetes mellitus patients with macrosomia\n",
            "GSE167323: Pharmacologically enhanced regulatory hematopoietic stem cells (HSC.Regs) reverts experimental autoimmune diabetes (Mouse)\n",
            "GSE167269: Pharmacologically enhanced regulatory hematopoietic stem cells (HSC.Regs) reverts experimental autoimmune diabetes\n",
            "GSE193626: Exploring the mechanism of Jiangtang Tiaozhi Recipe in the treatment of obese T2DM patients with dyslipidemia based on transcriptomics\n",
            "GSE193273: Prevalence of inflammatory pathways over immuno-tolerance in peripheral blood mononuclear cells of recent-onset type 1 diabetes\n",
            "GSE156035: Inflammatory pathways in peripheral blood expression profile of recent-onset type 1 diabetes\n",
            "GSE123677: Genetic characerization of early renal changes in diabetes\n",
            "GSE169275: Transcriptome analysis of islets from diabetes-resistant and diabetes-prone obese mice reveals novel gene regulatory networks involved in beta cell compensation and failure\n",
            "GSE180507: Phosphorylation-resistant Rb knockin mice develop diabetes that can be attenuated by vitamin C\n",
            "GSE190832: Human Tongue Fungiform Papilla Transcriptome and Proteome Reveal Sex Differences in Long Intergenic Noncoding RNA, Immune Response and Metabolism Genes [array]\n",
            "GSE189923: LncRNA expression profile and target gene prediction of calcification in human aortic smooth muscle cells induced by DPP4\n",
            "GSE141411: MicroRNA-mRNA expression profiles and functional networks of Submandibular Gland in type 2 diabetic db/db mice [array]\n",
            "GSE123088: A validated single-cell-based strategy to identify diagnostic and therapeutic targets in complex diseases\n",
            "GSE123086: A validated single-cell-based strategy to identify diagnostic and therapeutic targets in complex diseases [study of 13 diseases]\n",
            "GSE189007: Gene-expression profiles of whole blood cells from a Han Chinese population with or without Type-2 Diabetes Mellitus or/and its complications in nephropathy and retinopathy\n"
          ]
        }
      ]
    },
    {
      "cell_type": "code",
      "source": [],
      "metadata": {
        "id": "K9qY2nRWOsJk"
      },
      "execution_count": null,
      "outputs": []
    }
  ]
}